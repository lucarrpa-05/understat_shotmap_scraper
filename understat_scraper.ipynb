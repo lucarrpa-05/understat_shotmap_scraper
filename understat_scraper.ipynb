{
 "cells": [
  {
   "cell_type": "code",
   "execution_count": 5,
   "id": "f66c0436-5d9f-4d3e-ac41-550ba4b5f305",
   "metadata": {},
   "outputs": [],
   "source": [
    "import requests \n",
    "from bs4 import BeautifulSoup\n",
    "import json\n",
    "import pandas as pd"
   ]
  },
  {
   "cell_type": "code",
   "execution_count": null,
   "id": "c83ef70d-4b71-4f1c-8926-23f51b9f5394",
   "metadata": {},
   "outputs": [],
   "source": [
    "#enter the match id as input\n",
    "url = 'https://understat.com/match/'\n",
    "id = input('Enter the match id: ')\n",
    "match = url + id"
   ]
  },
  {
   "cell_type": "code",
   "execution_count": 11,
   "id": "ea9b10e0-58b8-4cff-a14e-00b06cd67599",
   "metadata": {},
   "outputs": [],
   "source": [
    "req = requests.get(match)\n",
    "soup = BeautifulSoup(req.content, 'lxml')\n",
    "scr = soup.find_all('script')"
   ]
  },
  {
   "cell_type": "code",
   "execution_count": 34,
   "id": "48f776cd-a997-457d-b739-5855e5ea1ff7",
   "metadata": {},
   "outputs": [],
   "source": [
    "strings = scr[1].string"
   ]
  },
  {
   "cell_type": "code",
   "execution_count": 36,
   "id": "b11e6eae-2395-4b08-b99f-9539dcab70db",
   "metadata": {},
   "outputs": [],
   "source": [
    "index_start = strings.index(\"('\") + 2\n",
    "index_end = strings.index(\"')\")\n",
    "\n",
    "json_data = strings[index_start:index_end]\n",
    "json_data = json_data.encode('utf8').decode('unicode_escape')\n",
    "\n",
    "data = json.loads(json_data)"
   ]
  },
  {
   "cell_type": "code",
   "execution_count": 38,
   "id": "8ac714bf-62ef-48ec-ad86-ceb236e0c9a6",
   "metadata": {},
   "outputs": [],
   "source": [
    "x_cor = []\n",
    "y_cor = []\n",
    "xg = []\n",
    "team = []\n",
    "\n",
    "home_data = data['h']\n",
    "away_data = data['a']\n",
    "\n",
    "\n",
    "for index in range(len(home_data)):\n",
    "    for key in home_data[index]:\n",
    "        if key == 'X':\n",
    "            x_cor.append(home_data[index][key])\n",
    "        if key == 'Y':\n",
    "            y_cor.append(home_data[index][key])\n",
    "        if key == 'xG':\n",
    "            xg.append(home_data[index][key])\n",
    "        if key == 'h_team':\n",
    "            team.append(home_data[index][key])\n",
    "\n",
    "for index in range(len(away_data)):\n",
    "    for key in away_data[index]:\n",
    "        if key == 'X':\n",
    "            x_cor.append(away_data[index][key])\n",
    "        if key == 'Y':\n",
    "            y_cor.append(away_data[index][key])\n",
    "        if key == 'xG':\n",
    "            xg.append(away_data[index][key])\n",
    "        if key == 'a_team':\n",
    "            team.append(away_data[index][key])"
   ]
  },
  {
   "cell_type": "code",
   "execution_count": null,
   "id": "d7e4d7be-ba7c-4031-b151-f18dc16ea71a",
   "metadata": {},
   "outputs": [],
   "source": [
    "col_names = ['x', 'y', 'xg', 'team']\n",
    "df = pd.DataFrame([x_cor, y_cor, xg, team], index=col_names)\n",
    "df.T"
   ]
  },
  {
   "cell_type": "code",
   "execution_count": 56,
   "id": "e7e004fe-cf8a-4a26-8fd9-84dea44962aa",
   "metadata": {},
   "outputs": [],
   "source": [
    "#export to excel\n",
    "df.to_excel('shotmap.xlsx', index=False)"
   ]
  }
 ],
 "metadata": {
  "kernelspec": {
   "display_name": "Python 3 (ipykernel)",
   "language": "python",
   "name": "python3"
  },
  "language_info": {
   "codemirror_mode": {
    "name": "ipython",
    "version": 3
   },
   "file_extension": ".py",
   "mimetype": "text/x-python",
   "name": "python",
   "nbconvert_exporter": "python",
   "pygments_lexer": "ipython3",
   "version": "3.11.0"
  }
 },
 "nbformat": 4,
 "nbformat_minor": 5
}
